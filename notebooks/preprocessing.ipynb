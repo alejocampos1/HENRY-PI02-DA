{
 "cells": [
  {
   "cell_type": "markdown",
   "metadata": {},
   "source": [
    "# Preprocesamiento de datos"
   ]
  },
  {
   "cell_type": "markdown",
   "metadata": {},
   "source": [
    "Tablas necesarias para el desarrollo del Dashboard"
   ]
  },
  {
   "cell_type": "code",
   "execution_count": 27,
   "metadata": {},
   "outputs": [],
   "source": [
    "import pandas as pd"
   ]
  },
  {
   "cell_type": "code",
   "execution_count": 103,
   "metadata": {},
   "outputs": [
    {
     "name": "stdout",
     "output_type": "stream",
     "text": [
      "Hojas disponibles: dict_keys(['Penetracion-totales', 'Penetracion-hogares', 'Penetración-poblacion', 'Totales Accesos Por Tecnología', 'Accesos Por Tecnología', 'Totales VMD', 'Velocidad % por prov', 'Ingresos'])\n"
     ]
    }
   ],
   "source": [
    "file_path = '../data/processed/Internet - Copy.xlsx'\n",
    "\n",
    "# Cargar el libro completo como un diccionario de DataFrames\n",
    "excel_data = pd.read_excel(file_path, sheet_name=None)\n",
    "\n",
    "print(\"Hojas disponibles:\", excel_data.keys())"
   ]
  },
  {
   "cell_type": "code",
   "execution_count": 104,
   "metadata": {},
   "outputs": [
    {
     "name": "stdout",
     "output_type": "stream",
     "text": [
      "    Año  Trimestre        Provincia  Mbps (Media de bajada)\n",
      "0  2024          2     Buenos Aires                  157.41\n",
      "1  2024          2  Capital Federal                  233.01\n",
      "2  2024          2        Catamarca                   97.38\n",
      "3  2024          2            Chaco                  107.76\n",
      "4  2024          2           Chubut                   21.67\n"
     ]
    }
   ],
   "source": [
    "# Cargar una hoja específica\n",
    "dfProvincias = pd.read_excel(file_path, sheet_name='Velocidad % por prov')\n",
    "\n",
    "print(dfProvincias.head())"
   ]
  },
  {
   "cell_type": "code",
   "execution_count": 105,
   "metadata": {},
   "outputs": [],
   "source": [
    "columnasEliminar = ['Año', 'Trimestre', 'Mbps (Media de bajada)']\n",
    "dfProvincias.drop(columnasEliminar, axis=1, inplace=True)"
   ]
  },
  {
   "cell_type": "code",
   "execution_count": 106,
   "metadata": {},
   "outputs": [],
   "source": [
    "dfProvincias.drop_duplicates(inplace=True)"
   ]
  },
  {
   "cell_type": "code",
   "execution_count": 107,
   "metadata": {},
   "outputs": [
    {
     "data": {
      "text/plain": [
       "(24, 3)"
      ]
     },
     "execution_count": 107,
     "metadata": {},
     "output_type": "execute_result"
    }
   ],
   "source": [
    "dfProvincias['ID'] = dfProvincias.index + 1  # Si el índice empieza en 0, sumamos 1\n",
    "dfProvincias['ID'] = dfProvincias['ID'].apply(lambda x: f'{x:03d}')\n",
    "\n",
    "dfProvincias['Country'] = 'Argentina'\n",
    "\n",
    "dfProvincias.shape"
   ]
  },
  {
   "cell_type": "code",
   "execution_count": 108,
   "metadata": {},
   "outputs": [],
   "source": [
    "dfProvincias.to_csv('../data/processed/Provincias.csv', index=False)"
   ]
  },
  {
   "cell_type": "code",
   "execution_count": 98,
   "metadata": {},
   "outputs": [
    {
     "name": "stdout",
     "output_type": "stream",
     "text": [
      "    Año  Trimestre        Provincia  Mbps (Media de bajada)\n",
      "0  2024          2     Buenos Aires                  157.41\n",
      "1  2024          2  Capital Federal                  233.01\n",
      "2  2024          2        Catamarca                   97.38\n",
      "3  2024          2            Chaco                  107.76\n",
      "4  2024          2           Chubut                   21.67\n"
     ]
    }
   ],
   "source": [
    "# Cargar una hoja específica\n",
    "dfAnios = pd.read_excel(file_path, sheet_name='Velocidad % por prov')\n",
    "\n",
    "print(dfAnios.head())"
   ]
  },
  {
   "cell_type": "code",
   "execution_count": 99,
   "metadata": {},
   "outputs": [],
   "source": [
    "columnasEliminar = ['Provincia', 'Trimestre', 'Mbps (Media de bajada)']\n",
    "dfAnios.drop(columnasEliminar, axis=1, inplace=True)\n",
    "dfAnios.drop_duplicates(inplace=True)\n",
    "dfAnios.sort_values('Año', ascending=True, inplace=True)\n",
    "dfAnios.reset_index(drop=True, inplace=True)\n"
   ]
  },
  {
   "cell_type": "code",
   "execution_count": 100,
   "metadata": {},
   "outputs": [
    {
     "data": {
      "text/html": [
       "<div>\n",
       "<style scoped>\n",
       "    .dataframe tbody tr th:only-of-type {\n",
       "        vertical-align: middle;\n",
       "    }\n",
       "\n",
       "    .dataframe tbody tr th {\n",
       "        vertical-align: top;\n",
       "    }\n",
       "\n",
       "    .dataframe thead th {\n",
       "        text-align: right;\n",
       "    }\n",
       "</style>\n",
       "<table border=\"1\" class=\"dataframe\">\n",
       "  <thead>\n",
       "    <tr style=\"text-align: right;\">\n",
       "      <th></th>\n",
       "      <th>Año</th>\n",
       "    </tr>\n",
       "  </thead>\n",
       "  <tbody>\n",
       "    <tr>\n",
       "      <th>0</th>\n",
       "      <td>2014</td>\n",
       "    </tr>\n",
       "    <tr>\n",
       "      <th>1</th>\n",
       "      <td>2015</td>\n",
       "    </tr>\n",
       "    <tr>\n",
       "      <th>2</th>\n",
       "      <td>2016</td>\n",
       "    </tr>\n",
       "    <tr>\n",
       "      <th>3</th>\n",
       "      <td>2017</td>\n",
       "    </tr>\n",
       "    <tr>\n",
       "      <th>4</th>\n",
       "      <td>2018</td>\n",
       "    </tr>\n",
       "  </tbody>\n",
       "</table>\n",
       "</div>"
      ],
      "text/plain": [
       "    Año\n",
       "0  2014\n",
       "1  2015\n",
       "2  2016\n",
       "3  2017\n",
       "4  2018"
      ]
     },
     "execution_count": 100,
     "metadata": {},
     "output_type": "execute_result"
    }
   ],
   "source": [
    "dfAnios.head()"
   ]
  },
  {
   "cell_type": "code",
   "execution_count": 101,
   "metadata": {},
   "outputs": [
    {
     "data": {
      "text/html": [
       "<div>\n",
       "<style scoped>\n",
       "    .dataframe tbody tr th:only-of-type {\n",
       "        vertical-align: middle;\n",
       "    }\n",
       "\n",
       "    .dataframe tbody tr th {\n",
       "        vertical-align: top;\n",
       "    }\n",
       "\n",
       "    .dataframe thead th {\n",
       "        text-align: right;\n",
       "    }\n",
       "</style>\n",
       "<table border=\"1\" class=\"dataframe\">\n",
       "  <thead>\n",
       "    <tr style=\"text-align: right;\">\n",
       "      <th></th>\n",
       "      <th>Año</th>\n",
       "      <th>ID_Anio</th>\n",
       "    </tr>\n",
       "  </thead>\n",
       "  <tbody>\n",
       "    <tr>\n",
       "      <th>0</th>\n",
       "      <td>2014</td>\n",
       "      <td>001</td>\n",
       "    </tr>\n",
       "    <tr>\n",
       "      <th>1</th>\n",
       "      <td>2015</td>\n",
       "      <td>002</td>\n",
       "    </tr>\n",
       "    <tr>\n",
       "      <th>2</th>\n",
       "      <td>2016</td>\n",
       "      <td>003</td>\n",
       "    </tr>\n",
       "    <tr>\n",
       "      <th>3</th>\n",
       "      <td>2017</td>\n",
       "      <td>004</td>\n",
       "    </tr>\n",
       "    <tr>\n",
       "      <th>4</th>\n",
       "      <td>2018</td>\n",
       "      <td>005</td>\n",
       "    </tr>\n",
       "    <tr>\n",
       "      <th>5</th>\n",
       "      <td>2019</td>\n",
       "      <td>006</td>\n",
       "    </tr>\n",
       "    <tr>\n",
       "      <th>6</th>\n",
       "      <td>2020</td>\n",
       "      <td>007</td>\n",
       "    </tr>\n",
       "    <tr>\n",
       "      <th>7</th>\n",
       "      <td>2021</td>\n",
       "      <td>008</td>\n",
       "    </tr>\n",
       "    <tr>\n",
       "      <th>8</th>\n",
       "      <td>2022</td>\n",
       "      <td>009</td>\n",
       "    </tr>\n",
       "    <tr>\n",
       "      <th>9</th>\n",
       "      <td>2023</td>\n",
       "      <td>010</td>\n",
       "    </tr>\n",
       "    <tr>\n",
       "      <th>10</th>\n",
       "      <td>2024</td>\n",
       "      <td>011</td>\n",
       "    </tr>\n",
       "  </tbody>\n",
       "</table>\n",
       "</div>"
      ],
      "text/plain": [
       "     Año ID_Anio\n",
       "0   2014     001\n",
       "1   2015     002\n",
       "2   2016     003\n",
       "3   2017     004\n",
       "4   2018     005\n",
       "5   2019     006\n",
       "6   2020     007\n",
       "7   2021     008\n",
       "8   2022     009\n",
       "9   2023     010\n",
       "10  2024     011"
      ]
     },
     "execution_count": 101,
     "metadata": {},
     "output_type": "execute_result"
    }
   ],
   "source": [
    "dfAnios['ID_Anio'] = dfAnios.index + 1  # Si el índice empieza en 0, sumamos 1\n",
    "dfAnios['ID_Anio'] = dfAnios['ID_Anio'].apply(lambda x: f'{x:03d}')\n",
    "\n",
    "dfAnios"
   ]
  },
  {
   "cell_type": "code",
   "execution_count": 102,
   "metadata": {},
   "outputs": [],
   "source": [
    "dfAnios.to_csv('../data/processed/Años.csv', index=False)"
   ]
  },
  {
   "cell_type": "code",
   "execution_count": 118,
   "metadata": {},
   "outputs": [
    {
     "name": "stdout",
     "output_type": "stream",
     "text": [
      "    Año  Trimestre        Provincia    ADSL  Cablemodem  Fibra óptica  \\\n",
      "0  2024          2     Buenos Aires  214055     2722466       1849476   \n",
      "1  2024          2  Capital Federal   54102     1144781        230402   \n",
      "2  2024          2        Catamarca    4951       10303         58355   \n",
      "3  2024          2            Chaco    9448       57935         68944   \n",
      "4  2024          2           Chubut   25955       80704         26516   \n",
      "\n",
      "   Wireless  Otros    Total  \n",
      "0    138638  64745  4989380  \n",
      "1      4493  29821  1463599  \n",
      "2      1384     81    75074  \n",
      "3      8407   2358   147092  \n",
      "4     31118   9930   174223  \n"
     ]
    }
   ],
   "source": [
    "# Cargar una hoja específica\n",
    "dfAccesosTecnologiaProvincia = pd.read_excel(file_path, sheet_name='Accesos Por Tecnología')\n",
    "\n",
    "print(dfAccesosTecnologiaProvincia.head())"
   ]
  },
  {
   "cell_type": "code",
   "execution_count": 119,
   "metadata": {},
   "outputs": [
    {
     "data": {
      "text/html": [
       "<div>\n",
       "<style scoped>\n",
       "    .dataframe tbody tr th:only-of-type {\n",
       "        vertical-align: middle;\n",
       "    }\n",
       "\n",
       "    .dataframe tbody tr th {\n",
       "        vertical-align: top;\n",
       "    }\n",
       "\n",
       "    .dataframe thead th {\n",
       "        text-align: right;\n",
       "    }\n",
       "</style>\n",
       "<table border=\"1\" class=\"dataframe\">\n",
       "  <thead>\n",
       "    <tr style=\"text-align: right;\">\n",
       "      <th></th>\n",
       "      <th>Año</th>\n",
       "      <th>Provincia</th>\n",
       "      <th>ADSL</th>\n",
       "      <th>Cablemodem</th>\n",
       "      <th>Fibra óptica</th>\n",
       "      <th>Wireless</th>\n",
       "      <th>Otros</th>\n",
       "      <th>Total</th>\n",
       "    </tr>\n",
       "  </thead>\n",
       "  <tbody>\n",
       "    <tr>\n",
       "      <th>0</th>\n",
       "      <td>2014</td>\n",
       "      <td>Buenos Aires</td>\n",
       "      <td>1568769.25</td>\n",
       "      <td>1051783.00</td>\n",
       "      <td>121492.50</td>\n",
       "      <td>17831.25</td>\n",
       "      <td>32722.50</td>\n",
       "      <td>2792598.50</td>\n",
       "    </tr>\n",
       "    <tr>\n",
       "      <th>1</th>\n",
       "      <td>2014</td>\n",
       "      <td>Capital Federal</td>\n",
       "      <td>449786.50</td>\n",
       "      <td>830549.50</td>\n",
       "      <td>17634.25</td>\n",
       "      <td>1926.50</td>\n",
       "      <td>14722.75</td>\n",
       "      <td>1314619.50</td>\n",
       "    </tr>\n",
       "    <tr>\n",
       "      <th>2</th>\n",
       "      <td>2014</td>\n",
       "      <td>Catamarca</td>\n",
       "      <td>24519.50</td>\n",
       "      <td>193.50</td>\n",
       "      <td>16.25</td>\n",
       "      <td>0.00</td>\n",
       "      <td>44.25</td>\n",
       "      <td>24773.50</td>\n",
       "    </tr>\n",
       "    <tr>\n",
       "      <th>3</th>\n",
       "      <td>2014</td>\n",
       "      <td>Chaco</td>\n",
       "      <td>53659.25</td>\n",
       "      <td>10155.25</td>\n",
       "      <td>30.00</td>\n",
       "      <td>0.25</td>\n",
       "      <td>59.25</td>\n",
       "      <td>63904.00</td>\n",
       "    </tr>\n",
       "    <tr>\n",
       "      <th>4</th>\n",
       "      <td>2014</td>\n",
       "      <td>Chubut</td>\n",
       "      <td>49973.50</td>\n",
       "      <td>638.25</td>\n",
       "      <td>876.25</td>\n",
       "      <td>11461.25</td>\n",
       "      <td>6655.50</td>\n",
       "      <td>69604.75</td>\n",
       "    </tr>\n",
       "  </tbody>\n",
       "</table>\n",
       "</div>"
      ],
      "text/plain": [
       "    Año        Provincia        ADSL  Cablemodem  Fibra óptica  Wireless  \\\n",
       "0  2014     Buenos Aires  1568769.25  1051783.00     121492.50  17831.25   \n",
       "1  2014  Capital Federal   449786.50   830549.50      17634.25   1926.50   \n",
       "2  2014        Catamarca    24519.50      193.50         16.25      0.00   \n",
       "3  2014            Chaco    53659.25    10155.25         30.00      0.25   \n",
       "4  2014           Chubut    49973.50      638.25        876.25  11461.25   \n",
       "\n",
       "      Otros       Total  \n",
       "0  32722.50  2792598.50  \n",
       "1  14722.75  1314619.50  \n",
       "2     44.25    24773.50  \n",
       "3     59.25    63904.00  \n",
       "4   6655.50    69604.75  "
      ]
     },
     "execution_count": 119,
     "metadata": {},
     "output_type": "execute_result"
    }
   ],
   "source": [
    "dfAccesosTecnologiaProvinciaAnual = dfAccesosTecnologiaProvincia.groupby(['Año', 'Provincia'])\\\n",
    "    [['ADSL', 'Cablemodem', 'Fibra óptica', 'Wireless', 'Otros', 'Total']].mean().round(2).reset_index()\n",
    "dfAccesosTecnologiaProvinciaAnual.head()"
   ]
  },
  {
   "cell_type": "code",
   "execution_count": 120,
   "metadata": {},
   "outputs": [
    {
     "data": {
      "text/html": [
       "<div>\n",
       "<style scoped>\n",
       "    .dataframe tbody tr th:only-of-type {\n",
       "        vertical-align: middle;\n",
       "    }\n",
       "\n",
       "    .dataframe tbody tr th {\n",
       "        vertical-align: top;\n",
       "    }\n",
       "\n",
       "    .dataframe thead th {\n",
       "        text-align: right;\n",
       "    }\n",
       "</style>\n",
       "<table border=\"1\" class=\"dataframe\">\n",
       "  <thead>\n",
       "    <tr style=\"text-align: right;\">\n",
       "      <th></th>\n",
       "      <th>Año</th>\n",
       "      <th>Provincia</th>\n",
       "      <th>ADSL</th>\n",
       "      <th>Cablemodem</th>\n",
       "      <th>Fibra óptica</th>\n",
       "      <th>Wireless</th>\n",
       "      <th>Otros</th>\n",
       "    </tr>\n",
       "  </thead>\n",
       "  <tbody>\n",
       "    <tr>\n",
       "      <th>0</th>\n",
       "      <td>2014</td>\n",
       "      <td>Buenos Aires</td>\n",
       "      <td>56.18</td>\n",
       "      <td>37.66</td>\n",
       "      <td>4.35</td>\n",
       "      <td>0.64</td>\n",
       "      <td>1.17</td>\n",
       "    </tr>\n",
       "    <tr>\n",
       "      <th>1</th>\n",
       "      <td>2014</td>\n",
       "      <td>Capital Federal</td>\n",
       "      <td>34.21</td>\n",
       "      <td>63.18</td>\n",
       "      <td>1.34</td>\n",
       "      <td>0.15</td>\n",
       "      <td>1.12</td>\n",
       "    </tr>\n",
       "    <tr>\n",
       "      <th>2</th>\n",
       "      <td>2014</td>\n",
       "      <td>Catamarca</td>\n",
       "      <td>98.97</td>\n",
       "      <td>0.78</td>\n",
       "      <td>0.07</td>\n",
       "      <td>0.00</td>\n",
       "      <td>0.18</td>\n",
       "    </tr>\n",
       "    <tr>\n",
       "      <th>3</th>\n",
       "      <td>2014</td>\n",
       "      <td>Chaco</td>\n",
       "      <td>83.97</td>\n",
       "      <td>15.89</td>\n",
       "      <td>0.05</td>\n",
       "      <td>0.00</td>\n",
       "      <td>0.09</td>\n",
       "    </tr>\n",
       "    <tr>\n",
       "      <th>4</th>\n",
       "      <td>2014</td>\n",
       "      <td>Chubut</td>\n",
       "      <td>71.80</td>\n",
       "      <td>0.92</td>\n",
       "      <td>1.26</td>\n",
       "      <td>16.47</td>\n",
       "      <td>9.56</td>\n",
       "    </tr>\n",
       "  </tbody>\n",
       "</table>\n",
       "</div>"
      ],
      "text/plain": [
       "    Año        Provincia   ADSL  Cablemodem  Fibra óptica  Wireless  Otros\n",
       "0  2014     Buenos Aires  56.18       37.66          4.35      0.64   1.17\n",
       "1  2014  Capital Federal  34.21       63.18          1.34      0.15   1.12\n",
       "2  2014        Catamarca  98.97        0.78          0.07      0.00   0.18\n",
       "3  2014            Chaco  83.97       15.89          0.05      0.00   0.09\n",
       "4  2014           Chubut  71.80        0.92          1.26     16.47   9.56"
      ]
     },
     "execution_count": 120,
     "metadata": {},
     "output_type": "execute_result"
    }
   ],
   "source": [
    "columnas = ['ADSL', 'Cablemodem', 'Fibra óptica', 'Wireless', 'Otros']\n",
    "\n",
    "for columna in columnas:\n",
    "    dfAccesosTecnologiaProvinciaAnual[columna] = round(dfAccesosTecnologiaProvinciaAnual[columna] * 100 / dfAccesosTecnologiaProvinciaAnual['Total'], 2)\n",
    "    \n",
    "dfAccesosTecnologiaProvinciaAnual.drop(columns=['Total'], inplace=True)\n",
    "dfAccesosTecnologiaProvinciaAnual.head()"
   ]
  },
  {
   "cell_type": "code",
   "execution_count": 121,
   "metadata": {},
   "outputs": [],
   "source": [
    "dfAccesosTecnologiaProvinciaAnual.to_csv('../data/processed/AccesosTecnologiaProvinciaAnual.csv', index=False)"
   ]
  },
  {
   "cell_type": "code",
   "execution_count": null,
   "metadata": {},
   "outputs": [],
   "source": []
  }
 ],
 "metadata": {
  "kernelspec": {
   "display_name": "mesadetrabajo",
   "language": "python",
   "name": "python3"
  },
  "language_info": {
   "codemirror_mode": {
    "name": "ipython",
    "version": 3
   },
   "file_extension": ".py",
   "mimetype": "text/x-python",
   "name": "python",
   "nbconvert_exporter": "python",
   "pygments_lexer": "ipython3",
   "version": "3.11.10"
  }
 },
 "nbformat": 4,
 "nbformat_minor": 2
}
